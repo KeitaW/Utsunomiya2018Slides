{
 "cells": [
  {
   "cell_type": "markdown",
   "metadata": {
    "slideshow": {
     "slide_type": "slide"
    }
   },
   "source": [
    "## はじめに...\n",
    "スライドは\n",
    "https://goo.gl/6UnRyH\n",
    "からアクセスできるようにしておきました．"
   ]
  },
  {
   "cell_type": "code",
   "execution_count": 4,
   "metadata": {
    "slideshow": {
     "slide_type": "skip"
    }
   },
   "outputs": [
    {
     "name": "stdout",
     "output_type": "stream",
     "text": [
      "https://gist.github.com/8b834676c597a26f78cd1b16bf61c88c\r\n"
     ]
    }
   ],
   "source": [
    "!gist -u https://gist.github.com/8b834676c597a26f78cd1b16bf61c88c notebook.ipynb"
   ]
  },
  {
   "cell_type": "code",
   "execution_count": 2,
   "metadata": {
    "collapsed": true,
    "slideshow": {
     "slide_type": "skip"
    }
   },
   "outputs": [],
   "source": [
    "import numpy as np\n",
    "import matplotlib.pyplot as plt\n",
    "%matplotlib inline"
   ]
  },
  {
   "cell_type": "markdown",
   "metadata": {
    "slideshow": {
     "slide_type": "slide"
    }
   },
   "source": [
    "# What can you do with math"
   ]
  },
  {
   "cell_type": "markdown",
   "metadata": {
    "slideshow": {
     "slide_type": "slide"
    }
   },
   "source": [
    "# まずは...自己紹介\n",
    "* 渡辺啓太と申します\n",
    "* 応数研OBです\n",
    "* 卒業研究のテーマは統計力学に関するもの（詳細後述）\n",
    "現在は\n",
    "* 東京大学大学院新領域創成科学研究科複雑理工学専攻博士課程三年（+理化学研究所Center for Brain Science）に所属\n",
    "* 卒業研究テーマは統計力学（詳細後述）\n",
    "* 現在の研究テーマは理論神経科学（詳細後述）\n",
    "* 好きな言語はPython, Julia, 好きなキーボード配列はDvorakです！"
   ]
  },
  {
   "cell_type": "markdown",
   "metadata": {
    "slideshow": {
     "slide_type": "subslide"
    }
   },
   "source": [
    "## 何をしに来たの？\n",
    "** みなさんが応数研に配属希望を出すようにそそのかしに来ました **\n",
    "![](fig/multi_syouhou_kanyuu.png)"
   ]
  },
  {
   "cell_type": "markdown",
   "metadata": {
    "slideshow": {
     "slide_type": "slide"
    }
   },
   "source": [
    "## 如何にしてそそのかすか（今日お話しする内容）\n",
    "* なぜ応数研を選んだか，何を，どのように勉強/研究していたか\n",
    "* 現在どんな勉強/研究をしているか，応数研でやったことはどの様に役に立っているのか\n",
    "* 数学・物理で何ができるか（事例紹介）\n",
    "* （時間があれば）全く関係ないけど言いたいこと"
   ]
  },
  {
   "cell_type": "markdown",
   "metadata": {
    "slideshow": {
     "slide_type": "slide"
    }
   },
   "source": [
    "# なぜ応数研を選んだか，何を，どのように勉強/研究していたか"
   ]
  },
  {
   "cell_type": "markdown",
   "metadata": {
    "slideshow": {
     "slide_type": "subslide"
    }
   },
   "source": [
    "## 応数研志望動機と当時の状況\n",
    "* 3年次に留年 → 1年間あれやこれや勉強（数学・物理，TOEIC，応用情報技術者試験，ホテルで接客）\n",
    "* 数学・物理学の応用に興味を持つようになる → 配属\n",
    "* 冬の間はとにかく基礎勉強(次で詳しく説明)\n",
    "* 学生一人 対 複数人の先生（社会人博士）の贅沢な状況で勉強\n",
    "* 最終的に統計力学(次の次で詳しく説明)が研究のテーマに"
   ]
  },
  {
   "cell_type": "markdown",
   "metadata": {
    "slideshow": {
     "slide_type": "subslide"
    }
   },
   "source": [
    "## 応数研でどのような勉強をしたか\n",
    "* 上記に必要な基礎力として\n",
    "    - 解析力学 → 統計力学への導入として\n",
    "    - 統計力学 → スピンモデルを中心に．（ざっくり言うと）ミクロとマクロをつなぐ学問\n",
    "    - 個人的な学習 → 種々の数学（解析学・線形代数・統計学・フーリエ変換etc...）\n",
    "* アルゴリズムの実装環境としてR言語を勉強 \n",
    "* 論文の書き方/発表方法"
   ]
  },
  {
   "cell_type": "markdown",
   "metadata": {
    "slideshow": {
     "slide_type": "subslide"
    }
   },
   "source": [
    "## 応数研でどのような研究をしたか\n",
    "研究テーマ\n",
    "### スピングラス模型基底状態の効率的な探索アルゴリズムの開発\n",
    "スピングラス？\n",
    "基底状態？\n",
    "？？？"
   ]
  },
  {
   "cell_type": "markdown",
   "metadata": {
    "slideshow": {
     "slide_type": "subslide"
    }
   },
   "source": [
    "##  スピングラス模型の基底状態　とは"
   ]
  },
  {
   "cell_type": "markdown",
   "metadata": {
    "slideshow": {
     "slide_type": "subslide"
    }
   },
   "source": [
    "## スピングラス模型\n",
    "スピングラスはスピンがバラバラに並んだ状態が低温において出現するような物質に対応するモデル\n",
    "![](fig/spinglass.png)\n",
    "基底状態 = 最も安定した状態\n",
    "最も安定した状態を求めるのが難しい → 効率のよい探索アルゴリズムの提案"
   ]
  },
  {
   "cell_type": "markdown",
   "metadata": {
    "slideshow": {
     "slide_type": "subslide"
    }
   },
   "source": [
    "## 基底状態がわかると何が嬉しいのか\n",
    "#### 色々な現象に対する数理的モデルの解析に役立ちます\n",
    "#### 巡回セールスマン問題 [ビデオ](https://www.youtube.com/watch?v=SC5CX8drAtU )とか解けます（情報統計力学）"
   ]
  },
  {
   "cell_type": "markdown",
   "metadata": {
    "slideshow": {
     "slide_type": "subslide"
    }
   },
   "source": [
    "## 応数研で得られたもの\n",
    "### 数理モデルを構築/理解する能力\n",
    "### それらをプログラムに落とし込む能力\n",
    "ここら辺は後で実例をお見せします\n",
    "### 自分の研究を他者に伝える能力"
   ]
  },
  {
   "cell_type": "markdown",
   "metadata": {
    "slideshow": {
     "slide_type": "subslide"
    }
   },
   "source": [
    "## 応数研 Pros and Cons\n",
    "#### PROS\n",
    "* 好きなテーマを好きなだけ\n",
    "* 充実の教育内容\n",
    "* 発表技術・文章作法何かの指導も充実\n",
    "* 様々な分野を専門とする先達\n",
    "\n",
    "#### CONS\n",
    "* 自分で研究テーマを決める必要がある\n",
    "* メンバが少ない（最近は？）\n",
    "* 先輩が居ない（今はいるのか？）\n",
    "\n",
    "※　あくまで個人の感想です"
   ]
  },
  {
   "cell_type": "markdown",
   "metadata": {
    "slideshow": {
     "slide_type": "slide"
    }
   },
   "source": [
    "# 現在どんな勉強/研究をしているか\n",
    "# 応数研でやったことはどのように役に立っているか"
   ]
  },
  {
   "cell_type": "markdown",
   "metadata": {
    "slideshow": {
     "slide_type": "subslide"
    }
   },
   "source": [
    "## 進路の話"
   ]
  },
  {
   "cell_type": "markdown",
   "metadata": {
    "slideshow": {
     "slide_type": "fragment"
    }
   },
   "source": [
    "### 情報統計力学の素晴らしさに感銘を受け，その道の大家の先生に師事すべく受験"
   ]
  },
  {
   "cell_type": "markdown",
   "metadata": {
    "slideshow": {
     "slide_type": "fragment"
    }
   },
   "source": [
    "### それなりに一生懸命勉強"
   ]
  },
  {
   "cell_type": "markdown",
   "metadata": {
    "slideshow": {
     "slide_type": "fragment"
    }
   },
   "source": [
    "### しかし，現実は非情である\n"
   ]
  },
  {
   "cell_type": "markdown",
   "metadata": {
    "slideshow": {
     "slide_type": "fragment"
    }
   },
   "source": [
    "### 第二希望として出していた現在の研究室（計算論的神経科学)に"
   ]
  },
  {
   "cell_type": "markdown",
   "metadata": {
    "slideshow": {
     "slide_type": "fragment"
    }
   },
   "source": [
    "## 計算論的神経科学??"
   ]
  },
  {
   "cell_type": "markdown",
   "metadata": {
    "slideshow": {
     "slide_type": "subslide"
    }
   },
   "source": [
    "## 計算論的神経科学 とは\n",
    "* 要するに：脳を情報処理機械と捉え，その機能を調べる\n",
    "* 具体的には：脳の様々な働きを説明する数理モデルを作る\n",
    "* 例として: [こんな感じ](http://lcn.epfl.ch/~gerstner/NeuronalDynamics-Classes/week1-IF.pdf)"
   ]
  },
  {
   "cell_type": "markdown",
   "metadata": {
    "slideshow": {
     "slide_type": "subslide"
    }
   },
   "source": [
    "## そんなキャリアで大丈夫か？\n",
    "* 大丈夫だ，問題ない\n",
    "* 神経科学そのものの勉強はなかなかに大変\n",
    "* But 一応，真面目に研究し，学会発表をこなし，論文もそろそろ通る...といいな\n",
    "* 来月にはサンディエゴで発表してくるよ\n",
    "* なぜそんなことが可能かというと..."
   ]
  },
  {
   "cell_type": "markdown",
   "metadata": {
    "slideshow": {
     "slide_type": "subslide"
    }
   },
   "source": [
    "## 問題へのアプローチの仕方が共通しているから(磁性体から脳へ)\n",
    "* 磁石・脳・コンピュータの関係性\n",
    "* 沢山の細かい要素が相互作用することによって複雑な機能を構成している\n",
    "* 磁石: 原子のスピン\n",
    "* コンピュータ: ビット\n",
    "* 脳: 神経細胞のスパイク\n",
    "* 問題の定式化，アプローチの仕方が共通している!"
   ]
  },
  {
   "cell_type": "markdown",
   "metadata": {
    "slideshow": {
     "slide_type": "slide"
    }
   },
   "source": [
    "#  実例\n",
    "数学・物理学は役に立つのか（情報工学的な意味で）"
   ]
  },
  {
   "cell_type": "markdown",
   "metadata": {
    "slideshow": {
     "slide_type": "subslide"
    }
   },
   "source": [
    "## 事例1: 画像修復 （脳の統計力学的モデル）\n",
    "|<img src=\"fig/mat1_with_noise.png\">|<img src=\"fig/mat2_with_noise.png\">|<img src=\"fig/mat3_with_noise.png\">|\n",
    "|------------------------|------------------------|------------------------|\n",
    "|<img src=\"fig/mat1.png\">|<img src=\"fig/mat2.png\">|<img src=\"fig/mat3.png\">|"
   ]
  },
  {
   "cell_type": "markdown",
   "metadata": {
    "slideshow": {
     "slide_type": "subslide"
    }
   },
   "source": [
    "### 画像1\n",
    "![](fig/retrieval1.gif)"
   ]
  },
  {
   "cell_type": "markdown",
   "metadata": {
    "slideshow": {
     "slide_type": "subslide"
    }
   },
   "source": [
    "### 画像2\n",
    "![](fig/retrieval2.gif)"
   ]
  },
  {
   "cell_type": "markdown",
   "metadata": {
    "slideshow": {
     "slide_type": "subslide"
    }
   },
   "source": [
    "### 画像3\n",
    "![](fig/retrieval3.gif)"
   ]
  },
  {
   "cell_type": "markdown",
   "metadata": {
    "slideshow": {
     "slide_type": "subslide"
    }
   },
   "source": [
    "### 一体何をやっていたのか\n",
    "![](fig/kaisetsu.png)\n",
    "$$\n",
    "J_{i, j} = \\frac{1}{N} \\sum_{\\mu=1}^p \\xi^\\mu_i \\xi_j^\\mu \\quad\n",
    "h_i^t = \\sum_{i\\neq j}^N J_{ij}x_j^t \\quad \n",
    "x_i^{t+1} = \\rm{sgn} (h_i^t)\n",
    "$$\n",
    "#### 周りの意見のの多数決を取って自分の状態を決めている！"
   ]
  },
  {
   "cell_type": "markdown",
   "metadata": {
    "slideshow": {
     "slide_type": "subslide"
    }
   },
   "source": [
    "# 連想記憶モデル\n",
    "* いま用いたモデルは__連想記憶モデル__という脳からヒントを得た数理モデルです．\n",
    "このモデルはHebb則という学習則に従って学習を行う神経回路のモデルとして捉えることもできますし，スピングラスの基底状態を実現するモデルと捉えることもできます．\n",
    "* 実装例 https://gist.github.com/KeitaW/50a9941a1d493352b18a5530c4587381\n"
   ]
  },
  {
   "cell_type": "markdown",
   "metadata": {
    "slideshow": {
     "slide_type": "subslide"
    }
   },
   "source": [
    "## 事例2: 感染症の数理モデル\n",
    "九州での鳥インフルエンザ感染拡大をシミュレートするモデル\n",
    "$$\\frac{dS_i(t)}{dt}  = -\\beta I_i(t)S_i(t) - \\sum_{i\\neq j} \\left(\\beta c_{ij} I_j(t)S_i(t)\\right)$$\n",
    "$$\\frac{dI_i(t)}{dt} = \\beta I_i(t)S_i(t) + \\sum_{i\\neq j} \\left( \\beta c_{ij} I_j(t)S_i(t) \\right) - \\gamma I_i(t)$$\n",
    "$$R_i(t) = N_i(t) - (S_i(t)+I_i(t)$$\n",
    "![](fig/SIR.png)\n",
    "![](fig/kyushu.png)"
   ]
  },
  {
   "cell_type": "markdown",
   "metadata": {
    "slideshow": {
     "slide_type": "subslide"
    }
   },
   "source": [
    "<img src=\"fig/spread258.gif\" width=\"450\" align=\"left\"><img src=\"fig/spread325.gif\" width=\"450\" align=\"right\">"
   ]
  },
  {
   "cell_type": "markdown",
   "metadata": {
    "slideshow": {
     "slide_type": "fragment"
    }
   },
   "source": [
    "シミュレーションのコードは[ここ](https://github.com/KeWata/infectious_2015/blob/master/simulator/simulator_draft.ipynb)に置いてあります"
   ]
  },
  {
   "cell_type": "markdown",
   "metadata": {
    "slideshow": {
     "slide_type": "subslide"
    }
   },
   "source": [
    "## 事例3: 機械学習"
   ]
  },
  {
   "cell_type": "markdown",
   "metadata": {
    "slideshow": {
     "slide_type": "subslide"
    }
   },
   "source": [
    "[パーセプトロン](https://github.com/KeWata/ML_Riken/blob/master/notes/chapter1.ipynb)"
   ]
  },
  {
   "cell_type": "markdown",
   "metadata": {
    "slideshow": {
     "slide_type": "subslide"
    }
   },
   "source": [
    "<img src=\"fig/Deep.png\" width=500>"
   ]
  },
  {
   "cell_type": "markdown",
   "metadata": {
    "slideshow": {
     "slide_type": "subslide"
    }
   },
   "source": [
    "[AlexNet](https://papers.nips.cc/paper/4824-imagenet-classification-with-deep-convolutional-neural-networks.pdf)"
   ]
  },
  {
   "cell_type": "markdown",
   "metadata": {
    "slideshow": {
     "slide_type": "subslide"
    }
   },
   "source": [
    "### スピングラスモデル($+\\alpha$)が理解できると，上記のモデルは全て理解できます"
   ]
  },
  {
   "cell_type": "markdown",
   "metadata": {
    "slideshow": {
     "slide_type": "subslide"
    }
   },
   "source": [
    "# その他\n",
    "いろいろなアルゴリズムを実装してたりします．興味のある方はGist（ https://gist.github.com/KeitaW ）を見に来てください．"
   ]
  },
  {
   "cell_type": "markdown",
   "metadata": {
    "slideshow": {
     "slide_type": "slide"
    }
   },
   "source": [
    "# (時間があれば)全く関係ないけれど言いたいこと"
   ]
  },
  {
   "cell_type": "markdown",
   "metadata": {
    "slideshow": {
     "slide_type": "subslide"
    }
   },
   "source": [
    "## 英語を勉強しよう\n",
    "技術者になるにしても，科学者になるにしても英語は必須(少なくとも向こう10〜20年は)\n",
    "\n",
    "* 論文・ドキュメントを読んだり...\n",
    "* 国際会議・ワークショップで発表したり\n",
    "* 英語論文を書いたり...\n",
    "今のうちにやっておくことを強く，強く推奨します"
   ]
  },
  {
   "cell_type": "markdown",
   "metadata": {
    "slideshow": {
     "slide_type": "subslide"
    }
   },
   "source": [
    "## 数学は必須です\n",
    "### 特にデータ解析/人工知能分野に関心があるならば"
   ]
  },
  {
   "cell_type": "markdown",
   "metadata": {
    "slideshow": {
     "slide_type": "subslide"
    }
   },
   "source": [
    "## もっとLL言語を使おう\n",
    "* Pythonオススメです\n",
    "* Juliaも大変良い\n",
    "\n",
    "∵ ライブラリが充実している　→　本質的なアルゴリズム実装に集中できる，実装に際して必要な工数の削減"
   ]
  },
  {
   "cell_type": "markdown",
   "metadata": {},
   "source": [
    "# その他の例\n",
    "\n",
    "* [粒子フィルタを使った自己位置推定（ロボティクス）](https://gist.github.com/KeitaW/a8ff12dd64d322e6fc778447659e5990)\n",
    "* [隠れマルコフモデルを使った系列ラベリング（自然言語処理）](https://gist.github.com/KeitaW/2e8eb8bb6f86c614458a9adaa675ad93)\n",
    "* [最急降下法，ニュートン法（最適化）](https://gist.github.com/KeitaW/3a6eed199996cb06887ffbf416eb9a05)\n",
    "* [SMOアルゴリズムを使ったソフトマージンSVM](https://gist.github.com/KeitaW/cf373c56b59b7a1f451c7d8015a0603e)\n",
    "* [連想記憶モデルによる画像修復](https://gist.github.com/KeitaW/e7d2f3da667f2b5dd7bb)\n",
    "* [Min hasing algorithmを用いた高速な類似データ探索](https://github.com/KeitaW/MinHashing.jl)\n",
    "* [Phase Plane Analysis (理論神経科学)](https://github.com/KeitaW/oldGistNotebooks/blob/master/phase_plane_analysis.ipynb)"
   ]
  },
  {
   "cell_type": "markdown",
   "metadata": {
    "slideshow": {
     "slide_type": "slide"
    }
   },
   "source": [
    "# 終わり"
   ]
  },
  {
   "cell_type": "code",
   "execution_count": null,
   "metadata": {
    "collapsed": true
   },
   "outputs": [],
   "source": [
    "# 基本的には http://docs.chainer.org/en/stable/tutorial/basic.html#example-multi-layer-perceptron-on-mnistの内容\n",
    "from chainer import datasets, iterators, Chain, optimizer, optimizers, serializers, Variable\n",
    "import chainer\n",
    "import chainer.functions as F\n",
    "import chainer.links as L\n",
    "from chainer import training\n",
    "from chainer.training import extensions\n",
    "\n",
    "\n",
    "# Network definition\n",
    "class MLP(chainer.Chain):\n",
    "\n",
    "    def __init__(self, n_units, n_out):\n",
    "        super(MLP, self).__init__(\n",
    "            # the size of the inputs to each layer will be inferred\n",
    "            l1=L.Linear(None, n_units),  # n_in -> n_units\n",
    "            l2=L.Linear(None, n_units),  # n_units -> n_units\n",
    "            l3=L.Linear(None, n_out),  # n_units -> n_out\n",
    "        )\n",
    "    def __call__(self, x):\n",
    "        h1 = F.relu(self.l1(x))\n",
    "        h2 = F.relu(self.l2(h1))\n",
    "        return self.l3(h2)\n",
    "class Classifier(Chain):\n",
    "    def __init__(self, predictor):\n",
    "        super(Classifier, self).__init__(predictor=predictor)\n",
    "\n",
    "    def __call__(self, x, t):\n",
    "        y = self.predictor(x)\n",
    "        loss = F.softmax_cross_entropy(y, t)\n",
    "        accuracy = F.accuracy(y, t)\n",
    "        report({'loss': loss, 'accuracy': accuracy}, self)\n",
    "        return loss    \n",
    "\n",
    "train, test = datasets.get_mnist()\n",
    "train_iter = iterators.SerialIterator(train, batch_size=100, shuffle=True)\n",
    "\n",
    "model = L.Classifier(MLP(100, 10))  # the input size, 784, is inferred\n",
    "optimizer = optimizers.SGD()\n",
    "optimizer.setup(model)\n",
    "\n",
    "updater = training.StandardUpdater(train_iter, optimizer)\n",
    "trainer = training.Trainer(updater, (20, 'epoch'), out='result')\n",
    "\n",
    "trainer.run()\n",
    "\n",
    "serializers.save_npz('my.model', model)\n",
    "\n",
    "def draw_digit(data):\n",
    "    size = 28\n",
    "    plt.figure(figsize=(2.5, 3))\n",
    "    X, Y = np.meshgrid(range(size),range(size))\n",
    "    Z = data.reshape(size,size)\n",
    "    Z = Z[::-1,:]\n",
    "    plt.xlim(0,27)\n",
    "    plt.ylim(0,27)\n",
    "    plt.pcolor(X, Y, Z)\n",
    "    plt.gray()\n",
    "    plt.tick_params(labelbottom=\"off\")\n",
    "    plt.tick_params(labelleft=\"off\")\n",
    "    plt.show()\n",
    "def predict(model, x_data):\n",
    "    x = Variable(x_data.astype(np.float32))\n",
    "    y = model.predictor(x)\n",
    "    return np.argmax(y.data, axis=1)    \n",
    "\n",
    "model(*[test[0]])\n",
    "\n",
    "draw_digit(test[0][0]); "
   ]
  }
 ],
 "metadata": {
  "celltoolbar": "Slideshow",
  "kernelspec": {
   "display_name": "Python 3",
   "language": "python",
   "name": "python3"
  },
  "language_info": {
   "codemirror_mode": {
    "name": "ipython",
    "version": 3
   },
   "file_extension": ".py",
   "mimetype": "text/x-python",
   "name": "python",
   "nbconvert_exporter": "python",
   "pygments_lexer": "ipython3",
   "version": "3.6.2"
  },
  "nav_menu": {},
  "toc": {
   "nav_menu": {},
   "number_sections": false,
   "sideBar": true,
   "skip_h1_title": false,
   "toc_cell": false,
   "toc_position": {},
   "toc_section_display": "none",
   "toc_window_display": false
  }
 },
 "nbformat": 4,
 "nbformat_minor": 2
}
